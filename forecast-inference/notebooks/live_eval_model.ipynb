{
 "cells": [
  {
   "cell_type": "code",
   "execution_count": null,
   "id": "5c4ed46a",
   "metadata": {},
   "outputs": [],
   "source": [
    "# Set the current working directory to the root of the repo (`CWD` is set in the Makefile)\n",
    "import os\n",
    "\n",
    "os.chdir(os.environ[\"CWD\"])\n",
    "%pwd"
   ]
  },
  {
   "cell_type": "code",
   "execution_count": null,
   "id": "728b0a12",
   "metadata": {},
   "outputs": [],
   "source": [
    "import datetime as dt\n",
    "\n",
    "import sqlalchemy as sa\n",
    "from sqlalchemy import select\n",
    "from sqlalchemy.orm import sessionmaker\n",
    "import pandas as pd\n",
    "\n",
    "import altair as alt\n",
    "\n",
    "alt.data_transformers.enable(\"default\", max_rows=None)\n",
    "\n",
    "import pvsite_datamodel.sqlmodels as models\n",
    "\n",
    "from forecast_inference._db_helpers import get_generation, get_forecasts, rows_to_df\n",
    "from forecast_inference.scripts.live_eval_model import _resample_df"
   ]
  },
  {
   "cell_type": "code",
   "execution_count": null,
   "id": "0154516a",
   "metadata": {},
   "outputs": [],
   "source": [
    "# This is the host given my ssh tunnel. The password is set in a .pgpass file.\n",
    "HOST = \"postgresql://main@localhost:9997/pvsitedevelopment\"\n",
    "\n",
    "START_UTC = dt.datetime.utcnow() - dt.timedelta(days=1)\n",
    "END_UTC = dt.datetime.utcnow() + dt.timedelta(hours=36)\n",
    "HORIZON_MINUTES = 2 * 60  # 60 * 1\n",
    "# Resample both time series (forecast and ground truth to this number of minutes),\n",
    "# so that we can easily calculate the cost between them\n",
    "RESAMPLE_MINUTES = 15"
   ]
  },
  {
   "cell_type": "code",
   "execution_count": null,
   "id": "92d06479",
   "metadata": {},
   "outputs": [],
   "source": [
    "# `future=True` to try out sqlalchemy's 2.0 syntax (that also work in 1.4)\n",
    "engine = sa.create_engine(HOST, future=True)\n",
    "Session = sessionmaker(engine)"
   ]
  },
  {
   "cell_type": "code",
   "execution_count": null,
   "id": "ff46c39f",
   "metadata": {
    "scrolled": false
   },
   "outputs": [],
   "source": [
    "# How many sites in the DB\n",
    "with Session() as session:\n",
    "    num_sites = session.scalars(select(sa.func.count()).select_from(models.SiteSQL)).one()\n",
    "print(num_sites)"
   ]
  },
  {
   "cell_type": "code",
   "execution_count": null,
   "id": "2f7f440d",
   "metadata": {
    "scrolled": false
   },
   "outputs": [],
   "source": [
    "# Find sites with some predictions\n",
    "with Session() as session:\n",
    "    site_uuids = session.scalars(select(models.ForecastSQL.site_uuid).distinct().order_by()).all()\n",
    "print(len(site_uuids))"
   ]
  },
  {
   "cell_type": "code",
   "execution_count": null,
   "id": "c8311743",
   "metadata": {},
   "outputs": [],
   "source": [
    "# offset = 0\n",
    "# limit = 100\n",
    "# site_uuids = site_uuids[offset : offset + limit]\n",
    "# site_uuids"
   ]
  },
  {
   "cell_type": "code",
   "execution_count": null,
   "id": "c9207c53",
   "metadata": {
    "scrolled": false
   },
   "outputs": [],
   "source": [
    "# Get the recent generation for the selected sites\n",
    "with Session() as session:\n",
    "    rows = get_generation(\n",
    "        session,\n",
    "        site_uuids=site_uuids,\n",
    "        start_utc=START_UTC,\n",
    "        end_utc=END_UTC,\n",
    "    )\n",
    "\n",
    "    df_generation = rows_to_df(rows)\n",
    "df_generation.head()"
   ]
  },
  {
   "cell_type": "code",
   "execution_count": null,
   "id": "49b64959",
   "metadata": {
    "scrolled": false
   },
   "outputs": [],
   "source": [
    "# Get the corresponding forecasts (this one takes as few seconds)\n",
    "with Session() as session:\n",
    "    rows = get_forecasts(\n",
    "        session,\n",
    "        site_uuids=site_uuids,\n",
    "        horizon_minutes=HORIZON_MINUTES,\n",
    "        start_utc=START_UTC,\n",
    "        end_utc=END_UTC,\n",
    "    )\n",
    "    df_forecast = rows_to_df(rows)\n",
    "df_forecast.head()"
   ]
  },
  {
   "cell_type": "code",
   "execution_count": null,
   "id": "463d3e70",
   "metadata": {
    "scrolled": false
   },
   "outputs": [],
   "source": [
    "# Calculate some costs.\n",
    "# We do the same sort of calculations that we do in the live_eval_model *script*.\n",
    "\n",
    "KEEP_N_WORSE = 100\n",
    "\n",
    "df_f = _resample_df(\n",
    "    df_forecast.set_index([\"site_uuid\", \"start_utc\"])[[\"forecast_power_kw\"]], RESAMPLE_MINUTES\n",
    ")\n",
    "# display(df_f.head())\n",
    "\n",
    "df_g = _resample_df(\n",
    "    df_generation.set_index([\"site_uuid\", \"start_utc\"])[[\"generation_power_kw\"]], RESAMPLE_MINUTES\n",
    ")\n",
    "# display(df_g.head())\n",
    "df_g = df_g[df_g[\"generation_power_kw\"] > 0.001]\n",
    "\n",
    "\n",
    "df = pd.concat([df_g, df_f], axis=1)\n",
    "df = df.dropna()\n",
    "\n",
    "abs_diff = abs(df[\"forecast_power_kw\"] - df[\"generation_power_kw\"])\n",
    "sum_abs_diff = abs_diff.groupby(pd.Grouper(level=\"site_uuid\")).sum()\n",
    "sum_generation = df[\"generation_power_kw\"].groupby(pd.Grouper(level=\"site_uuid\")).sum()\n",
    "\n",
    "errors_flat = abs_diff.sum() / df[\"generation_power_kw\"].sum()\n",
    "print(errors_flat)\n",
    "print(\"flat\", errors_flat.mean())\n",
    "\n",
    "error = sum_abs_diff / sum_generation\n",
    "error = error.sort_values(ascending=True)\n",
    "print(error.mean())\n",
    "display(error.to_frame(name=\"error\"))\n",
    "\n",
    "sorted_ids = list(error.index.unique())[:KEEP_N_WORSE]\n",
    "data = df.melt(ignore_index=False).reset_index().copy()\n",
    "data = data[data[\"site_uuid\"].isin(sorted_ids)]\n",
    "\n",
    "chart = (\n",
    "    alt.Chart(data)\n",
    "    .mark_line()\n",
    "    .encode(\n",
    "        x=\"start_utc\",\n",
    "        y=\"value\",\n",
    "        color=\"variable\",\n",
    "        facet=alt.Facet(\"site_uuid\", columns=10, spacing=0, sort=sorted_ids),\n",
    "    )\n",
    "    .properties(width=130, height=60)\n",
    "    .resolve_scale(\n",
    "        y=\"independent\",\n",
    "    )\n",
    ")\n",
    "display(chart)"
   ]
  },
  {
   "cell_type": "code",
   "execution_count": null,
   "id": "44647e64",
   "metadata": {},
   "outputs": [],
   "source": [
    "df_g = df_generation.copy()\n",
    "df_g[\"which\"] = \"generation\"\n",
    "df_g[\"power_kw\"] = df_g[\"generation_power_kw\"]\n",
    "del df_g[\"generation_power_kw\"]\n",
    "\n",
    "df_f = df_forecast.copy()\n",
    "df_f[\"which\"] = \"forecast\"\n",
    "df_f[\"power_kw\"] = df_f[\"forecast_power_kw\"]\n",
    "del df_f[\"forecast_power_kw\"]\n",
    "df = pd.concat([df_f, df_g])"
   ]
  },
  {
   "cell_type": "code",
   "execution_count": null,
   "id": "72952b82",
   "metadata": {
    "scrolled": false
   },
   "outputs": [],
   "source": [
    "data = df.copy()  # [:1000]\n",
    "ids = data[\"site_uuid\"].unique()[:100]\n",
    "data = data[data[\"site_uuid\"].isin(ids)]\n",
    "data = data.sort_values(\"which\", ascending=False)\n",
    "data[\"timestamp\"] = data[\"start_utc\"] + (data[\"end_utc\"] - data[\"start_utc\"]) / 2\n",
    "# data = data[data['power_kw'] > 0]\n",
    "base_generation = (\n",
    "    alt.Chart()  # data[data['which'] == 'generation'])\n",
    "    .mark_line(color=\"black\")  # size=10, opacity=0.5, color='black')\n",
    "    .encode(x=\"timestamp\", y=\"power_kw\")\n",
    "    .transform_filter(alt.datum.which == \"generation\")\n",
    "    .properties(height=100, width=200)\n",
    "    #     .encode(\n",
    "    #         x='timestamp',\n",
    "    #         y='power_kw',\n",
    "    # facet=alt.Facet('client_site_id', columns=6),\n",
    "    # color=alt.Color('which', scale=alt.Scale(domain=['forecast', 'generation'], range=['red', 'black']))\n",
    ")\n",
    "\n",
    "\n",
    "# )\n",
    "\n",
    "base_forecast = (\n",
    "    alt.Chart()  # data[data['which'] == 'forecast'])\n",
    "    .mark_line(color=\"orange\")  # size=25, opacity=0.5, color='orange')\n",
    "    .encode(x=\"timestamp\", y=\"power_kw\")\n",
    "    .transform_filter(alt.datum.which == \"forecast\")\n",
    ")\n",
    "\n",
    "chart = (\n",
    "    alt.layer(base_generation, base_forecast, data=data)\n",
    "    .facet(\"site_uuid\", columns=10)\n",
    "    .resolve_scale(\n",
    "        y=\"independent\",\n",
    "    )\n",
    ")\n",
    "\n",
    "\n",
    "chart"
   ]
  }
 ],
 "metadata": {
  "kernelspec": {
   "display_name": "Python 3 (ipykernel)",
   "language": "python",
   "name": "python3"
  },
  "language_info": {
   "codemirror_mode": {
    "name": "ipython",
    "version": 3
   },
   "file_extension": ".py",
   "mimetype": "text/x-python",
   "name": "python",
   "nbconvert_exporter": "python",
   "pygments_lexer": "ipython3",
   "version": "3.10.8"
  }
 },
 "nbformat": 4,
 "nbformat_minor": 5
}
