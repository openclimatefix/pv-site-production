{
 "cells": [
  {
   "cell_type": "code",
   "execution_count": null,
   "id": "5c4ed46a",
   "metadata": {},
   "outputs": [],
   "source": [
    "# Set the current working directory to the root of the repo (`CWD` is set in the Makefile)\n",
    "import os\n",
    "os.chdir(os.environ['CWD'])\n",
    "%pwd"
   ]
  },
  {
   "cell_type": "code",
   "execution_count": null,
   "id": "728b0a12",
   "metadata": {},
   "outputs": [],
   "source": [
    "import datetime as dt\n",
    "\n",
    "import sqlalchemy as sa\n",
    "from sqlalchemy import select\n",
    "from sqlalchemy.orm import sessionmaker\n",
    "import pandas as pd\n",
    "\n",
    "import altair as alt\n",
    "alt.data_transformers.enable('default', max_rows=None)\n",
    "\n",
    "import pvsite_datamodel.sqlmodels as models"
   ]
  },
  {
   "cell_type": "code",
   "execution_count": null,
   "id": "0154516a",
   "metadata": {},
   "outputs": [],
   "source": [
    "# This is the host given my ssh tunnel. The password is set in a .pgpass file.\n",
    "HOST='postgresql://main@localhost:9997/pvsitedevelopment'\n",
    "\n",
    "START_UTC = dt.datetime.utcnow() - dt.timedelta(days=1)\n",
    "END_UTC = dt.datetime.utcnow() + dt.timedelta(hours=36)\n",
    "HORIZON_MINUTES = 2 * 60# 60 * 1"
   ]
  },
  {
   "cell_type": "code",
   "execution_count": null,
   "id": "92d06479",
   "metadata": {},
   "outputs": [],
   "source": [
    "# `future=True` to try out sqlalchemy's 2.0 syntax (that also work in 1.4)\n",
    "engine = sa.create_engine(HOST, future=True)\n",
    "Session = sessionmaker(engine)"
   ]
  },
  {
   "cell_type": "code",
   "execution_count": null,
   "id": "ff46c39f",
   "metadata": {
    "scrolled": false
   },
   "outputs": [],
   "source": [
    "# How many sites in the DB\n",
    "with Session() as session:\n",
    "    num_sites = session.scalars(\n",
    "        select(sa.func.count()).select_from(models.SiteSQL)\n",
    "    ).one()\n",
    "print(num_sites)"
   ]
  },
  {
   "cell_type": "code",
   "execution_count": null,
   "id": "2f7f440d",
   "metadata": {
    "scrolled": false
   },
   "outputs": [],
   "source": [
    "# Find sites with some predictions\n",
    "with Session() as session:\n",
    "    site_uuids = session.scalars(\n",
    "        select(models.ForecastSQL.site_uuid).distinct().order_by()\n",
    "    ).all()\n",
    "print(len(site_uuids))"
   ]
  },
  {
   "cell_type": "code",
   "execution_count": null,
   "id": "c8311743",
   "metadata": {},
   "outputs": [],
   "source": [
    "offset = 0\n",
    "limit = 100\n",
    "site_uuids = site_uuids[offset: offset + limit]\n",
    "#site_uuids"
   ]
  },
  {
   "cell_type": "code",
   "execution_count": null,
   "id": "25edb1ae",
   "metadata": {},
   "outputs": [],
   "source": [
    "def rows_to_df(query, columns=None):\n",
    "    if columns is None:\n",
    "        query = query.all()\n",
    "        columns = list(query[0].keys())\n",
    "    data = [\n",
    "        {\n",
    "            key: getattr(row, key)\n",
    "            for key\n",
    "            in columns\n",
    "        }\n",
    "        for row\n",
    "        in query\n",
    "    ]\n",
    "    \n",
    "    df = pd.DataFrame.from_records(data)\n",
    "    \n",
    "    # Change the types on some columns based on the name.\n",
    "    for col in columns:\n",
    "        if col.endswith('_utc'):\n",
    "            df[col] = pd.to_datetime(df[col])\n",
    "        elif col.endswith('_uuid'):\n",
    "            df[col] = df[col].astype(str)\n",
    "        elif col.endswith('_power_kw'):\n",
    "            df['power_kw'] = df[col]\n",
    "            del df[col]\n",
    "    \n",
    "    return df"
   ]
  },
  {
   "cell_type": "code",
   "execution_count": null,
   "id": "c9207c53",
   "metadata": {
    "scrolled": false
   },
   "outputs": [],
   "source": [
    "# Get the recent generation for the selected sites\n",
    "with Session() as session:\n",
    "    query = session.execute(\n",
    "        select(\n",
    "            models.SiteSQL.client_site_id,\n",
    "            models.GenerationSQL.generation_power_kw,\n",
    "            models.GenerationSQL.start_utc,\n",
    "            models.GenerationSQL.end_utc,\n",
    "        )\n",
    "        .join(models.GenerationSQL.site)\n",
    "        .where(models.GenerationSQL.site_uuid.in_(site_uuids))\n",
    "        .where(models.GenerationSQL.start_utc >= START_UTC)\n",
    "        .where(models.GenerationSQL.start_utc < END_UTC)\n",
    "        #.where(models.GenerationSQL.generation_power_kw > 0)\n",
    "    )\n",
    "    \n",
    "    df_generation = rows_to_df(query)\n",
    "df_generation.head()"
   ]
  },
  {
   "cell_type": "code",
   "execution_count": null,
   "id": "49b64959",
   "metadata": {
    "scrolled": false
   },
   "outputs": [],
   "source": [
    "# Get the corresponding forecasts\n",
    "# This query still takes a few seconds to run.\n",
    "# TODO: understand why and make it faster.\n",
    "with Session() as session:\n",
    "    query = session.execute(\n",
    "        select(\n",
    "            models.ForecastValueSQL.forecast_power_kw,\n",
    "            models.ForecastValueSQL.start_utc,\n",
    "            models.ForecastValueSQL.end_utc,\n",
    "            models.SiteSQL.client_site_id,\n",
    "        )\n",
    "        .select_from(models.ForecastValueSQL)\n",
    "        .join(models.ForecastSQL)\n",
    "        .join(models.SiteSQL)\n",
    "        .where(models.ForecastSQL.site_uuid.in_(site_uuids))\n",
    "        #.where(models.ForecastValueSQL.forecast_power_kw > 0)\n",
    "        .where(models.ForecastValueSQL.horizon_minutes == HORIZON_MINUTES)\n",
    "        .where(models.ForecastValueSQL.start_utc >= START_UTC)\n",
    "        .where(models.ForecastValueSQL.start_utc < END_UTC)\n",
    "     #   .limit(10)\n",
    "    )\n",
    "    df_forecast = rows_to_df(query)\n",
    "df_forecast.head()"
   ]
  },
  {
   "cell_type": "code",
   "execution_count": null,
   "id": "44647e64",
   "metadata": {},
   "outputs": [],
   "source": [
    "df_generation['which'] = 'generation'\n",
    "df_forecast['which'] = 'forecast'\n",
    "df = pd.concat([df_forecast, df_generation])"
   ]
  },
  {
   "cell_type": "code",
   "execution_count": null,
   "id": "428e2bae",
   "metadata": {},
   "outputs": [],
   "source": [
    "df.head()"
   ]
  },
  {
   "cell_type": "code",
   "execution_count": null,
   "id": "72952b82",
   "metadata": {
    "scrolled": false
   },
   "outputs": [],
   "source": [
    "data = df.copy()#[:1000]\n",
    "ids = data['client_site_id'].unique()[:100]\n",
    "data = data[data['client_site_id'].isin(ids)]\n",
    "data = data.sort_values('which', ascending=False)\n",
    "data['timestamp'] = data['start_utc'] + (data['end_utc'] - data['start_utc']) / 2\n",
    "#data = data[data['power_kw'] > 0]\n",
    "base_generation = (\n",
    "    alt.Chart()#data[data['which'] == 'generation'])\n",
    "    .mark_line(color='black')#size=10, opacity=0.5, color='black')\n",
    "    .encode(x='timestamp', y='power_kw')\n",
    "    .transform_filter(alt.datum.which == 'generation')\n",
    "    .properties(height=100, width=200)\n",
    "        \n",
    "\n",
    "#     .encode(\n",
    "#         x='timestamp',\n",
    "#         y='power_kw',\n",
    "        #facet=alt.Facet('client_site_id', columns=6),\n",
    "        #color=alt.Color('which', scale=alt.Scale(domain=['forecast', 'generation'], range=['red', 'black']))\n",
    "    )\n",
    "\n",
    "\n",
    "#)\n",
    "\n",
    "base_forecast = (\n",
    "    alt.Chart()#data[data['which'] == 'forecast'])\n",
    "    .mark_line(color='orange')#size=25, opacity=0.5, color='orange')\n",
    "    .encode(x='timestamp', y='power_kw')\n",
    "    .transform_filter(alt.datum.which == 'forecast')\n",
    ")\n",
    "\n",
    "chart = alt.layer(base_generation, base_forecast, data=data).facet('client_site_id', columns=10).resolve_scale(\n",
    "    y=\"independent\",\n",
    ")\n",
    "\n",
    "    \n",
    "chart"
   ]
  }
 ],
 "metadata": {
  "kernelspec": {
   "display_name": "Python 3 (ipykernel)",
   "language": "python",
   "name": "python3"
  },
  "language_info": {
   "codemirror_mode": {
    "name": "ipython",
    "version": 3
   },
   "file_extension": ".py",
   "mimetype": "text/x-python",
   "name": "python",
   "nbconvert_exporter": "python",
   "pygments_lexer": "ipython3",
   "version": "3.10.8"
  }
 },
 "nbformat": 4,
 "nbformat_minor": 5
}
